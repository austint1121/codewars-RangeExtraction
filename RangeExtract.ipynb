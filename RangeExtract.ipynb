{
 "cells": [
  {
   "cell_type": "markdown",
   "metadata": {
    "collapsed": true,
    "pycharm": {
     "name": "#%% md\n"
    }
   },
   "source": [
    "# [Codewars Range Extraction](https://www.codewars.com/kata/51ba717bb08c1cd60f00002f)"
   ]
  },
  {
   "cell_type": "markdown",
   "source": [
    "A format for expressing an ordered list of integers is to use a comma separated list of either\n",
    "\n",
    "individual integers\n",
    "or a range of integers denoted by the starting integer separated from the end integer in the range by a dash, '-'. The range includes all integers in the interval including both endpoints. It is not considered a range unless it spans at least 3 numbers. For example \"12,13,15-17\"\n",
    "Complete the solution so that it takes a list of integers in increasing order and returns a correctly formatted string in the range format.\n"
   ],
   "metadata": {
    "collapsed": false
   }
  },
  {
   "cell_type": "code",
   "execution_count": 117,
   "outputs": [],
   "source": [
    "numbers = [-91, -89, -88, -86, -84, -83, -80, -79, -76, -75, -74, -73, -70, -69, -66, -63, -62]\n"
   ],
   "metadata": {
    "collapsed": false,
    "pycharm": {
     "name": "#%%\n"
    }
   }
  },
  {
   "cell_type": "code",
   "execution_count": 125,
   "outputs": [],
   "source": [
    "def solution(args):\n",
    "    numbers = args\n",
    "    target = [] # list to return\n",
    "    start = 0 # Variable to hold starting position of a chain\n",
    "    end = 0 # Variable to indicate ending position of a chain\n",
    "    chain = False # Indicates if there is currently a chain of numbers.\n",
    "    for x, items in enumerate(numbers):\n",
    "        # Try statement checks if the end of the list has been reached\n",
    "        try:\n",
    "            # check if next number increases incrementally\n",
    "            if items+1 == numbers[x+1]:\n",
    "\n",
    "                # If no chain has been started, begin a chain, and save its starting position\n",
    "                if not chain:\n",
    "                    chain = True\n",
    "                    start = x\n",
    "\n",
    "            # If numbers don't increase, but there is a chain, mark this position as the end.\n",
    "            elif chain:\n",
    "                end = x\n",
    "                chain = False\n",
    "                # If the chain is not >= 2 numbers, then treat as regular numbers\n",
    "                if end - start >= 2:\n",
    "                    target.append(f'{str(numbers[start])}-{str(numbers[end])}')\n",
    "                else:\n",
    "                    target.append(str(numbers[start]))\n",
    "                    target.append(str(items))\n",
    "\n",
    "            # If numbers don't increase, and theres no chain, just add the number to the list.\n",
    "            else:\n",
    "                target.append(str(items))\n",
    "        # If the end of the list has been reached, check for a chain, and record the last number.\n",
    "        except IndexError:\n",
    "            if chain:\n",
    "                end = x\n",
    "                chain = False\n",
    "                if end - start >= 2:\n",
    "                    target.append(f'{str(numbers[start])}-{str(numbers[end])}')\n",
    "                else:\n",
    "                    target.append(str(numbers[start]))\n",
    "                    target.append(str(items))\n",
    "            else:\n",
    "                target.append(str(items))\n",
    "    # Return all items joined with a ','\n",
    "    return ','.join(target)\n",
    "\n"
   ],
   "metadata": {
    "collapsed": false,
    "pycharm": {
     "name": "#%%\n"
    }
   }
  },
  {
   "cell_type": "code",
   "execution_count": 126,
   "outputs": [
    {
     "data": {
      "text/plain": "'-91,-89,-88,-86,-84,-83,-80,-79,-76--73,-70,-69,-66,-63,-62'"
     },
     "execution_count": 126,
     "metadata": {},
     "output_type": "execute_result"
    }
   ],
   "source": [
    "solution(numbers)\n",
    "# should equal '-91,-89,-88,-86,-84,-83,-80,-79,-76--73,-70,-69,-66,-63,-62"
   ],
   "metadata": {
    "collapsed": false,
    "pycharm": {
     "name": "#%%\n"
    }
   }
  },
  {
   "cell_type": "code",
   "execution_count": null,
   "outputs": [],
   "source": [],
   "metadata": {
    "collapsed": false,
    "pycharm": {
     "name": "#%%\n"
    }
   }
  }
 ],
 "metadata": {
  "kernelspec": {
   "display_name": "Python 3",
   "language": "python",
   "name": "python3"
  },
  "language_info": {
   "codemirror_mode": {
    "name": "ipython",
    "version": 2
   },
   "file_extension": ".py",
   "mimetype": "text/x-python",
   "name": "python",
   "nbconvert_exporter": "python",
   "pygments_lexer": "ipython2",
   "version": "2.7.6"
  }
 },
 "nbformat": 4,
 "nbformat_minor": 0
}