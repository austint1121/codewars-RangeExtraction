{
 "cells": [
  {
   "cell_type": "markdown",
   "metadata": {
    "collapsed": true,
    "pycharm": {
     "name": "#%% md\n"
    }
   },
   "source": [
    "# [Codewars Range Extraction](https://www.codewars.com/kata/51ba717bb08c1cd60f00002f)"
   ]
  },
  {
   "cell_type": "markdown",
   "source": [
    "A format for expressing an ordered list of integers is to use a comma separated list of either\n",
    "\n",
    "individual integers\n",
    "or a range of integers denoted by the starting integer separated from the end integer in the range by a dash, '-'. The range includes all integers in the interval including both endpoints. It is not considered a range unless it spans at least 3 numbers. For example \"12,13,15-17\"\n",
    "Complete the solution so that it takes a list of integers in increasing order and returns a correctly formatted string in the range format.\n"
   ],
   "metadata": {
    "collapsed": false
   }
  },
  {
   "cell_type": "code",
   "execution_count": 1,
   "outputs": [],
   "source": [
    "numbers = [-6, -3, -2, -1, 0, 1, 3, 4, 5, 7, 8, 9, 10, 11, 14, 15, 17, 18, 19, 20]\n",
    "# returns \"-6,-3-1,3-5,7-11,14,15,17-20\""
   ],
   "metadata": {
    "collapsed": false,
    "pycharm": {
     "name": "#%%\n"
    }
   }
  },
  {
   "cell_type": "code",
   "execution_count": 75,
   "outputs": [],
   "source": [
    "target = []\n",
    "positions = {}\n",
    "start = 0\n",
    "end = 0\n",
    "chain = False\n",
    "for x, items in enumerate(numbers):\n",
    "    try:\n",
    "        if items+1 == numbers[x+1]:\n",
    "            if not chain:\n",
    "                chain = True\n",
    "                start = x\n",
    "        elif chain:\n",
    "            positions[start] = x\n",
    "            end = x\n",
    "            chain = False\n",
    "            target.append(f'{str(numbers[start])}-{str(numbers[end])}')\n",
    "        else:\n",
    "            target.append(str(items))\n",
    "\n",
    "    except IndexError:\n",
    "        if chain:\n",
    "            positions[start] = x\n",
    "            end = x+1\n",
    "            chain = False\n",
    "            target.append(f'{str(start)}-{str(end)}')\n",
    "        else:\n",
    "            target.append(str(items))\n",
    "\n"
   ],
   "metadata": {
    "collapsed": false,
    "pycharm": {
     "name": "#%%\n"
    }
   }
  },
  {
   "cell_type": "code",
   "execution_count": 76,
   "outputs": [
    {
     "data": {
      "text/plain": "'-6,-3-1,3-5,7-11,14-15,16-20'"
     },
     "execution_count": 76,
     "metadata": {},
     "output_type": "execute_result"
    }
   ],
   "source": [
    "','.join(target)\n",
    "# returns \"-6,-3-1,3-5,7-11,14,15,17-20\""
   ],
   "metadata": {
    "collapsed": false,
    "pycharm": {
     "name": "#%%\n"
    }
   }
  }
 ],
 "metadata": {
  "kernelspec": {
   "display_name": "Python 3",
   "language": "python",
   "name": "python3"
  },
  "language_info": {
   "codemirror_mode": {
    "name": "ipython",
    "version": 2
   },
   "file_extension": ".py",
   "mimetype": "text/x-python",
   "name": "python",
   "nbconvert_exporter": "python",
   "pygments_lexer": "ipython2",
   "version": "2.7.6"
  }
 },
 "nbformat": 4,
 "nbformat_minor": 0
}